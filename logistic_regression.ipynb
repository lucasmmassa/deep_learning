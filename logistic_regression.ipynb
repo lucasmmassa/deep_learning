{
 "cells": [
  {
   "cell_type": "code",
   "execution_count": 1,
   "metadata": {},
   "outputs": [],
   "source": [
    "import numpy as np\n",
    "import matplotlib.pyplot as plt"
   ]
  },
  {
   "cell_type": "code",
   "execution_count": 4,
   "metadata": {},
   "outputs": [],
   "source": [
    "class LogisticRegression:\n",
    "    \n",
    "    def __init__(self, dim) -> None:\n",
    "        self.dim = dim\n",
    "        self.W = np.zeros((dim, 1))\n",
    "        self.b = 0\n",
    "        self.grads = {}\n",
    "        self.costs = []\n",
    "        \n",
    "    def sigmoid(self, z):\n",
    "        return (1 + np.exp(-z))**(-1)\n",
    "    \n",
    "    def propagate(self, X, Y):\n",
    "        m = X.shape[1]\n",
    "        A = self.sigmoid(self.W.T@X+self.b)\n",
    "        cost = -np.sum(Y*np.log(A)+(1-Y)*np.log(1-A))/m\n",
    "        self.costs.append(cost)\n",
    "        \n",
    "        dW = X@((A-Y).T)/m\n",
    "        db = np.mean(A-Y)\n",
    "        \n",
    "        self.grads = {\n",
    "            \"dW\": dW,\n",
    "            \"db\": db\n",
    "        }\n",
    "        \n",
    "    def optimize(self, X, Y, epochs, lr):\n",
    "        self.costs = []\n",
    "        for epoch in range(epochs):\n",
    "            self.propagate(X, Y)\n",
    "            self.W = self.W - lr*self.grads['dW']\n",
    "            self.b = self.b - lr*self.grads['db']\n",
    "            \n",
    "    def predict(self, X):\n",
    "        m = X.shape[1]\n",
    "        Y_hat = np.zeros((1, m))\n",
    "        A = self.sigmoid(self.W.T@X+self.b)\n",
    "        Y_hat[A > 0.5] = 1.\n",
    "        return Y_hat\n",
    "        "
   ]
  },
  {
   "cell_type": "code",
   "execution_count": 6,
   "metadata": {},
   "outputs": [
    {
     "name": "stdout",
     "output_type": "stream",
     "text": [
      "predictions = [[1. 1. 0.]]\n"
     ]
    }
   ],
   "source": [
    "log_reg = LogisticRegression(dim=2)\n",
    "log_reg.W = np.array([[0.1124579],[0.23106775]])\n",
    "log_reg.b = -0.3\n",
    "X = np.array([[1.,-1.1,-3.2],[1.2,2.,0.1]])\n",
    "print (\"predictions = \" + str(log_reg.predict(X)))"
   ]
  },
  {
   "cell_type": "code",
   "execution_count": null,
   "metadata": {},
   "outputs": [],
   "source": []
  }
 ],
 "metadata": {
  "kernelspec": {
   "display_name": "tf-gpu",
   "language": "python",
   "name": "python3"
  },
  "language_info": {
   "codemirror_mode": {
    "name": "ipython",
    "version": 3
   },
   "file_extension": ".py",
   "mimetype": "text/x-python",
   "name": "python",
   "nbconvert_exporter": "python",
   "pygments_lexer": "ipython3",
   "version": "3.9.16"
  },
  "orig_nbformat": 4
 },
 "nbformat": 4,
 "nbformat_minor": 2
}
